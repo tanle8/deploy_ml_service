{
 "cells": [
  {
   "cell_type": "code",
   "execution_count": 1,
   "id": "67079d41-6b09-4c99-a19e-eeb5cc02bde6",
   "metadata": {},
   "outputs": [],
   "source": [
    "import json # will be needed for saving preprocessing details\n",
    "import numpy as np # for data manipulation\n",
    "import pandas as pd # for data manipulation\n",
    "from sklearn.model_selection import train_test_split # will be used for data split\n",
    "import requests"
   ]
  },
  {
   "cell_type": "markdown",
   "id": "d73b52d0-163b-4339-9cb9-022ae1e8142a",
   "metadata": {},
   "source": [
    "## Read the data"
   ]
  },
  {
   "cell_type": "markdown",
   "id": "a2bfdd8e-a8ab-4ddb-9735-808700d67794",
   "metadata": {},
   "source": [
    "# load dataset\n",
    "df = pd.read_csv('https://raw.githubusercontent.com/pplonski/datasets-for-start/master/adult/data.csv', skipinitialspace=True)\n",
    "x_cols = [c for c in df.columns if c != 'income']\n",
    "# set input matrix and target column\n",
    "X = df[x_cols]\n",
    "y = df['income']\n",
    "# show first rows of data\n",
    "df.head()"
   ]
  },
  {
   "cell_type": "markdown",
   "id": "64defd18-1118-4860-b2a6-9759fd90f946",
   "metadata": {},
   "source": [
    "## Split the data to train and test sets:"
   ]
  },
  {
   "cell_type": "code",
   "execution_count": 4,
   "id": "efe5a177-dff6-488f-9c95-2154ba318da1",
   "metadata": {},
   "outputs": [],
   "source": [
    "# data split train / test\n",
    "X_train, X_test, y_train, y_test = train_test_split(X, y, test_size = 0.3, random_state=1234)"
   ]
  },
  {
   "cell_type": "markdown",
   "id": "529a8bff-0c1c-4767-9df5-97e60b7c9cc0",
   "metadata": {},
   "source": [
    "Please notice that we used the same seed (random_state value) as earlier while model training.\n",
    "\n",
    "Let's use first 100 rows of test data for A/B test."
   ]
  },
  {
   "cell_type": "code",
   "execution_count": 5,
   "id": "1ee84189-bf9b-4ddb-994d-862e07a47bd8",
   "metadata": {},
   "outputs": [],
   "source": [
    "for i in range(100):\n",
    "    input_data = dict(X_test.iloc[i])\n",
    "    target = y_test.iloc[i]\n",
    "    r = requests.post(\"http://127.0.0.1:8000/api/v1/income_classifier/predict?status=ab_testing\", input_data)\n",
    "    response = r.json()\n",
    "    # provide feedback\n",
    "    requests.put(\"http://127.0.0.1:8000/api/v1/mlrequests/{}\".format(response[\"request_id\"]), {\"feedback\": target})"
   ]
  },
  {
   "cell_type": "markdown",
   "id": "75abfec0-8ba8-4332-b586-c83cd90bbfa6",
   "metadata": {},
   "source": [
    "In each iteration step, we are sending data to API endpoint:\n",
    "\n",
    "http://127.0.0.1:8000/api/v1/income_classifier/predict?status=ab_testing\n",
    "\n",
    "and provide feedback with true label at:\n",
    "\n",
    "http://127.0.0.1:8000/api/v1/mlrequests/<request-id>\n",
    "\n",
    "After running the script, you can check the requests at address: http://127.0.0.1:8000/api/v1/mlrequests. You should see list of requests like in the image 15."
   ]
  },
  {
   "cell_type": "markdown",
   "id": "5f765039-0a6d-48f0-8afd-cd7f297d5f8e",
   "metadata": {},
   "source": [
    "## Stop A/B Test\n",
    "\n",
    "To stop the A/B test, please open address http://127.0.0.1:8000/api/v1/stop_ab_test/1 where `1` at the end of the address it the A/B test id. Click on POST button to finish A/B test. You should get the view like in the image 16."
   ]
  },
  {
   "cell_type": "markdown",
   "id": "92401370-a6bd-4927-9dbe-81ad3b5cc800",
   "metadata": {},
   "source": [
    "You can see that there is summary of the test displayed with accuracy for each algorithm. You can check (at http://127.0.0.1:8000/api/v1/mlalgorithms) that algorithms have updated statuses, and the model with higher accuracy is set to production."
   ]
  }
 ],
 "metadata": {
  "kernelspec": {
   "display_name": "venv",
   "language": "python",
   "name": "venv"
  },
  "language_info": {
   "codemirror_mode": {
    "name": "ipython",
    "version": 3
   },
   "file_extension": ".py",
   "mimetype": "text/x-python",
   "name": "python",
   "nbconvert_exporter": "python",
   "pygments_lexer": "ipython3",
   "version": "3.8.5"
  }
 },
 "nbformat": 4,
 "nbformat_minor": 5
}
